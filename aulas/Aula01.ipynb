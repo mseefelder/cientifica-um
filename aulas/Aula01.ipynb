{
 "cells": [
  {
   "cell_type": "markdown",
   "metadata": {},
   "source": [
    "Plano de Hoje\n",
    "=============\n",
    "\n",
    "1. Ambiente de programação\n",
    "    1. **Interpretador interativo, Interpretador de arquivos, iPython**\n",
    "    1. **Revisão da sintaxe de python**\n",
    "    1. Funções\n",
    "    1. Números \"reais\"\n",
    "    1. NumPy, SciPy: Matrizes e o mais\n",
    "    1. MatPlotLib: gráficos"
   ]
  },
  {
   "cell_type": "markdown",
   "metadata": {},
   "source": [
    "Python\n",
    "------\n",
    "Pode ser:\n",
    "\n",
    "- Uma linguagem (versões, ...)\n",
    "- Um programa (que você chama na linha de comando)\n",
    "\n",
    "Funciona como:\n",
    "\n",
    "- executável\n",
    "- \"debugger\" interativo (_toplevel_)\n",
    "\n",
    "iPython Notebook\n",
    "-------\n",
    "Mistura tudo num lugar só:\n",
    "\n",
    "- editor de texto\n",
    "- toplevel\n",
    "- comentários e documentação\n",
    "- gráficos !"
   ]
  },
  {
   "cell_type": "markdown",
   "metadata": {},
   "source": [
    "Exemplo:"
   ]
  },
  {
   "cell_type": "code",
   "execution_count": 4,
   "metadata": {
    "collapsed": false
   },
   "outputs": [
    {
     "name": "stdout",
     "output_type": "stream",
     "text": [
      "6\n",
      "[1, 2, 3] 6\n"
     ]
    }
   ],
   "source": [
    "print(1+2+3)\n",
    "a = [1,2,3]\n",
    "print(a, sum(a))"
   ]
  },
  {
   "cell_type": "markdown",
   "metadata": {},
   "source": [
    "Voltar acima, e incluir mais alguns comandos.\n",
    "O que acontece se um comando \"retorna\" algo, como\n",
    "\n",
    "    2 + 3\n",
    "ou como\n",
    "\n",
    "    5 == 6\n",
    "?"
   ]
  },
  {
   "cell_type": "markdown",
   "metadata": {},
   "source": [
    "Em Python, tudo, **tudo mesmo**, pode ser \"inspecionado\". Isso tem duas conseqüências:\n",
    "\n",
    "1. o iPython usa essas capacidades para\n",
    "    - auto-completamento\n",
    "    - documentação on-line\n",
    "    - guardar todas as entradas e saídas usadas.\n",
    "2. você pode usar isso para descobrir todos os detalhes de uma variável, função, objeto, classe, ..."
   ]
  },
  {
   "cell_type": "code",
   "execution_count": 7,
   "metadata": {
    "collapsed": false
   },
   "outputs": [
    {
     "data": {
      "text/plain": [
       "6"
      ]
     },
     "execution_count": 7,
     "metadata": {},
     "output_type": "execute_result"
    }
   ],
   "source": [
    "# Escreva \"su\" e espere\n",
    "sum(a)\n",
    "# Complete \"sum(, \" e espere\n",
    "\n",
    "# Use \"sum(a, \" e dê \"tab\""
   ]
  },
  {
   "cell_type": "code",
   "execution_count": 3,
   "metadata": {
    "collapsed": false
   },
   "outputs": [
    {
     "name": "stdout",
     "output_type": "stream",
     "text": [
      "print(1+2+3)\n",
      "a = [1,2,3]\n",
      "print(a, sum(a))\n"
     ]
    }
   ],
   "source": [
    "# Mesmo entradas que não estão mais visíveis ainda estão na memória\n",
    "print(In[1])"
   ]
  },
  {
   "cell_type": "markdown",
   "metadata": {},
   "source": [
    "Sintaxe Python\n",
    "==============\n",
    "\n",
    "/!\\ /!\\ **Espaços significativos** /!\\ /!\\ :\n",
    "isso obriga o código a ficar mais \"bonitinho\", mas pode gerar bugs meio difíceis de resolver.\n",
    "**Use um editor de texto capaz de ajudar a identar corretamente**.\n",
    "\n",
    "Referência: https://docs.python.org/3/reference/lexical_analysis.html e https://docs.python.org/3/reference/expressions.html\n",
    "\n",
    "Palavras-chave\n",
    "--------------\n",
    "\n",
    "(veja http://www.programiz.com/python-programming/keyword-list)"
   ]
  },
  {
   "cell_type": "code",
   "execution_count": 4,
   "metadata": {
    "collapsed": false
   },
   "outputs": [
    {
     "name": "stdout",
     "output_type": "stream",
     "text": [
      "['and', 'as', 'assert', 'break', 'class', 'continue', 'def', 'del', 'elif', 'else', 'except', 'exec', 'finally', 'for', 'from', 'global', 'if', 'import', 'in', 'is', 'lambda', 'not', 'or', 'pass', 'print', 'raise', 'return', 'try', 'while', 'with', 'yield']\n"
     ]
    }
   ],
   "source": [
    "# Todas as palavras-chave\"\n",
    "import keyword\n",
    "print(keyword.kwlist)"
   ]
  },
  {
   "cell_type": "markdown",
   "metadata": {},
   "source": [
    "Em grupos:\n",
    "\n",
    "- `False`, `True`, `None`: valores pré-definidos (os dois booleanos, e um \"_void_\")\n",
    "- `and`, `or`, `not`: conectores lógicos\n",
    "- `in`: operador lógico \"_pertence a_\" (`not in` também existe)\n",
    "- `break`, `continue` ; `if`, `else`, `elif` ; `while`: estruturas de controle de fluxo\n",
    "\n",
    "- `for ... in`: iterador\n",
    "- `def`, `lambda`, `class`, `pass`: definindo funções e classes\n",
    "- `return`, `yield`: retornando de funções e iteradores\n",
    "\n",
    "- `raise`; `try`, `except`, `else`, `finally`: usando excessões\n",
    "\n",
    "- `from`, `import`, `as`: usando módulos\n",
    "\n",
    "Partes mais avançadas:\n",
    "\n",
    "- `assert`: debug\n",
    "\n",
    "- `del`: apaga uma variável do contexto (ou de uma lista / dicionário)\n",
    "- `global`, `nonlocal`: força uma variável a ser considerada global / mais geral do que o contexto da função atual\n",
    "\n",
    "- `is`: igualdade física (ao contrário de ==, que é igualdade semântica) (também existe `is not`)\n",
    "- `with`, `as`: gestão de recursos"
   ]
  },
  {
   "cell_type": "markdown",
   "metadata": {},
   "source": [
    "Operadores\n",
    "----------\n",
    "\n",
    "Aritméticos:\n",
    "\n",
    "    +       -       *       **      /       //      %  \n",
    "    <<      >>\n",
    "\n",
    "Lógicos\n",
    "\n",
    "    &       |       ^       ~\n",
    "\n",
    "Comparação\n",
    "\n",
    "    <       >       <=      >=      ==      !=\n"
   ]
  },
  {
   "cell_type": "markdown",
   "metadata": {},
   "source": [
    "Símbolos especiais\n",
    "------------------\n",
    "\n",
    "Grupos\n",
    "\n",
    "- `()` : listas de argumentos, precedência\n",
    "- `[]` : construir listas, indexar listas e dicionários, \"fatiar\" listas\n",
    "- `{}` : conjuntos e dicionários\n",
    "\n",
    "Operadores com uso e atribuição da mesma variável: `a $= b` é equivalente a `a = a $ b`\n",
    "\n",
    "    +=      -=      *=      **=     /=      //=     %=\n",
    "    <<=     >>= \n",
    "    &=      |=      ^=\n",
    "\n",
    "Outros\n",
    "\n",
    "- `=` : atribuição\n",
    "- `,` : separador de elementos em listas (tanto com `[]` como em funções)\n",
    "- `:` : separador de blocos (`if`, `def`, `for`, ...)\n",
    "- `.` : acesso de propriedades (`math.pi`)\n",
    "- `;` : seqüência (quase nunca utilizado)\n",
    "- `@` : decorador\n",
    "- `->` : anotação de funções\n"
   ]
  },
  {
   "cell_type": "markdown",
   "metadata": {},
   "source": [
    "Estruturas de dados\n",
    "-------------------\n",
    "\n",
    "Referência: https://docs.python.org/3/tutorial/index.html, em especial https://docs.python.org/3/tutorial/introduction.html\n",
    "\n",
    "* Primitivas\n",
    "    - Números\n",
    "    - Strings e \"bytestrings\"\n",
    "* Compostas\n",
    "    - Listas, dicionários, conjuntos\n",
    "    - Pares e seqüências"
   ]
  },
  {
   "cell_type": "markdown",
   "metadata": {},
   "source": [
    "### Números"
   ]
  },
  {
   "cell_type": "markdown",
   "metadata": {},
   "source": [
    "#### Números inteiros"
   ]
  },
  {
   "cell_type": "markdown",
   "metadata": {},
   "source": [
    "Operações simples"
   ]
  },
  {
   "cell_type": "code",
   "execution_count": 8,
   "metadata": {
    "collapsed": false
   },
   "outputs": [
    {
     "data": {
      "text/plain": [
       "(23, 17, 60, 6.666666666666667, 6, 2, 8000, 160, 2)"
      ]
     },
     "execution_count": 8,
     "metadata": {},
     "output_type": "execute_result"
    }
   ],
   "source": [
    "20 + 3, 20 - 3, 20 * 3, 20 / 3, 20 // 3, 20 % 3, 20 ** 3, 20 << 3, 20 >> 3"
   ]
  },
  {
   "cell_type": "markdown",
   "metadata": {},
   "source": [
    "#### Números inteiros podem ser bem grandes!"
   ]
  },
  {
   "cell_type": "code",
   "execution_count": 9,
   "metadata": {
    "collapsed": false
   },
   "outputs": [
    {
     "data": {
      "text/plain": [
       "(1048576, 1073741824, 1267650600228229401496703205376)"
      ]
     },
     "execution_count": 9,
     "metadata": {},
     "output_type": "execute_result"
    }
   ],
   "source": [
    "2 ** 20, 2 ** 30, 2 ** 100"
   ]
  },
  {
   "cell_type": "code",
   "execution_count": 11,
   "metadata": {
    "collapsed": false
   },
   "outputs": [
    {
     "data": {
      "text/plain": [
       "3273390607896141870013189696827599152216642046043064789483291368096133796404674554883270092325904157150886684127560071009217256545885393053328527589376"
      ]
     },
     "execution_count": 11,
     "metadata": {},
     "output_type": "execute_result"
    }
   ],
   "source": [
    "2 ** 500"
   ]
  },
  {
   "cell_type": "markdown",
   "metadata": {},
   "source": [
    "Tente ver até que número o seu computador consegue calcular \"sem titubear\"!"
   ]
  },
  {
   "cell_type": "markdown",
   "metadata": {},
   "source": [
    "#### Números de ponto flutuante"
   ]
  },
  {
   "cell_type": "code",
   "execution_count": 12,
   "metadata": {
    "collapsed": false
   },
   "outputs": [
    {
     "data": {
      "text/plain": [
       "(1.0, 0.14285714285714285, 0.2999999999999998)"
      ]
     },
     "execution_count": 12,
     "metadata": {},
     "output_type": "execute_result"
    }
   ],
   "source": [
    "(1./3)*3, 1./7, 4.5 % 2.1"
   ]
  },
  {
   "cell_type": "markdown",
   "metadata": {},
   "source": [
    "Também podem ser grandes!"
   ]
  },
  {
   "cell_type": "code",
   "execution_count": 9,
   "metadata": {
    "collapsed": false
   },
   "outputs": [
    {
     "data": {
      "text/plain": [
       "3.273390607896142e+150"
      ]
     },
     "execution_count": 9,
     "metadata": {},
     "output_type": "execute_result"
    }
   ],
   "source": [
    "2. ** 500"
   ]
  },
  {
   "cell_type": "markdown",
   "metadata": {},
   "source": [
    "Mas podem acontecer coisas estranhas..."
   ]
  },
  {
   "cell_type": "code",
   "execution_count": 10,
   "metadata": {
    "collapsed": false
   },
   "outputs": [
    {
     "name": "stdout",
     "output_type": "stream",
     "text": [
      "(1.020446049250313e-16, 0.0, 1.0000000000000002)\n"
     ]
    }
   ],
   "source": [
    "x = 1.2e-16\n",
    "y = 1\n",
    "z1 = (y + x) - y - x\n",
    "z2 = (y + x) - x - y\n",
    "print(z1, z2, y+x)"
   ]
  },
  {
   "cell_type": "markdown",
   "metadata": {},
   "source": [
    "###Listas, dicionários, conjuntos"
   ]
  },
  {
   "cell_type": "code",
   "execution_count": 11,
   "metadata": {
    "collapsed": false
   },
   "outputs": [],
   "source": [
    "# Declarando variáveis\n",
    "li = [1,2,3,4,5,6]\n",
    "conj = {1, 2, 3, 4, 5, 6}\n",
    "dic = {1:2, 3:'4', \"5\":6}"
   ]
  },
  {
   "cell_type": "code",
   "execution_count": 12,
   "metadata": {
    "collapsed": false
   },
   "outputs": [
    {
     "name": "stdout",
     "output_type": "stream",
     "text": [
      "[1, 2, 3, 4, 5, 6]\n",
      "set([1, 2, 3, 4, 5, 6])\n",
      "{1: 2, 3: '4', '5': 6}\n"
     ]
    }
   ],
   "source": [
    "print(li)\n",
    "print(conj)\n",
    "print(dic)"
   ]
  },
  {
   "cell_type": "markdown",
   "metadata": {},
   "source": [
    "Operações básicas: pertence"
   ]
  },
  {
   "cell_type": "code",
   "execution_count": 13,
   "metadata": {
    "collapsed": false
   },
   "outputs": [
    {
     "data": {
      "text/plain": [
       "(True, True, True)"
      ]
     },
     "execution_count": 13,
     "metadata": {},
     "output_type": "execute_result"
    }
   ],
   "source": [
    "3 in li, 3 in conj, 3 in dic"
   ]
  },
  {
   "cell_type": "code",
   "execution_count": 14,
   "metadata": {
    "collapsed": false
   },
   "outputs": [
    {
     "data": {
      "text/plain": [
       "(True, True, False)"
      ]
     },
     "execution_count": 14,
     "metadata": {},
     "output_type": "execute_result"
    }
   ],
   "source": [
    "2 in li, 2 in conj, 2 in dic"
   ]
  },
  {
   "cell_type": "markdown",
   "metadata": {},
   "source": [
    "comprimento,"
   ]
  },
  {
   "cell_type": "code",
   "execution_count": 15,
   "metadata": {
    "collapsed": false
   },
   "outputs": [
    {
     "data": {
      "text/plain": [
       "(6, 6, 3)"
      ]
     },
     "execution_count": 15,
     "metadata": {},
     "output_type": "execute_result"
    }
   ],
   "source": [
    "len(li), len(conj), len(dic)"
   ]
  },
  {
   "cell_type": "markdown",
   "metadata": {},
   "source": [
    "modificação,"
   ]
  },
  {
   "cell_type": "code",
   "execution_count": 16,
   "metadata": {
    "collapsed": false
   },
   "outputs": [
    {
     "data": {
      "text/plain": [
       "'4'"
      ]
     },
     "execution_count": 16,
     "metadata": {},
     "output_type": "execute_result"
    }
   ],
   "source": [
    "li.append(7)\n",
    "li.remove(3)\n",
    "conj.add(7)\n",
    "conj.remove(3)\n",
    "dic.update({7 : 8.})\n",
    "dic.pop(3)"
   ]
  },
  {
   "cell_type": "markdown",
   "metadata": {},
   "source": [
    "e iteração"
   ]
  },
  {
   "cell_type": "code",
   "execution_count": 17,
   "metadata": {
    "collapsed": false
   },
   "outputs": [
    {
     "name": "stdout",
     "output_type": "stream",
     "text": [
      "(1, 1)\n",
      "(2, 4)\n",
      "(4, 16)\n",
      "(5, 25)\n",
      "(6, 36)\n",
      "(7, 49)\n",
      "\n",
      "(1, 1)\n",
      "(2, 4)\n",
      "(4, 256)\n",
      "(5, 3125)\n",
      "(6, 46656)\n",
      "(7, 823543)\n",
      "\n",
      "(1, 2)\n",
      "('5', 6)\n",
      "(7, 8.0)\n"
     ]
    }
   ],
   "source": [
    "for x in li:\n",
    "    print (x, x*x)\n",
    "print(\"\")\n",
    "for v in conj:\n",
    "    print(v, v**v)\n",
    "print(\"\")\n",
    "for k in dic:\n",
    "    print(k, dic[k])   "
   ]
  },
  {
   "cell_type": "markdown",
   "metadata": {},
   "source": [
    "Operações de acesso indexado"
   ]
  },
  {
   "cell_type": "code",
   "execution_count": 18,
   "metadata": {
    "collapsed": false
   },
   "outputs": [
    {
     "data": {
      "text/plain": [
       "(2, 2, 7, 6)"
      ]
     },
     "execution_count": 18,
     "metadata": {},
     "output_type": "execute_result"
    }
   ],
   "source": [
    "li[1], dic[1], li[5], dic[\"5\"]"
   ]
  },
  {
   "cell_type": "code",
   "execution_count": 19,
   "metadata": {
    "collapsed": false
   },
   "outputs": [
    {
     "data": {
      "text/plain": [
       "(6, [1, 2, 4], [5, 6, 7], [5, 6])"
      ]
     },
     "execution_count": 19,
     "metadata": {},
     "output_type": "execute_result"
    }
   ],
   "source": [
    "# Indexar e fatiar: trabalhando com listas\n",
    "li[-2], li[:3], li[3:], li[3:-1]"
   ]
  },
  {
   "cell_type": "markdown",
   "metadata": {},
   "source": [
    "Acesso e modificação simultâneos"
   ]
  },
  {
   "cell_type": "code",
   "execution_count": 20,
   "metadata": {
    "collapsed": false
   },
   "outputs": [
    {
     "name": "stdout",
     "output_type": "stream",
     "text": [
      "[1, 2, 42, 5, 6, 7]\n",
      "{1: [1, 2, 3], '5': 6, 7: 8.0}\n"
     ]
    }
   ],
   "source": [
    "li[2] = 42\n",
    "print(li)\n",
    "dic[1] = [1,2,3]\n",
    "print(dic)"
   ]
  },
  {
   "cell_type": "markdown",
   "metadata": {},
   "source": [
    "Podemos modificar um monte de campos ao mesmo tempo, usando \"fatias\":"
   ]
  },
  {
   "cell_type": "code",
   "execution_count": 21,
   "metadata": {
    "collapsed": false
   },
   "outputs": [
    {
     "name": "stdout",
     "output_type": "stream",
     "text": [
      "[1, 2, 42, 10, 11, 12, 13, 7]\n"
     ]
    }
   ],
   "source": [
    "li[3:5] = [10,11,12,13]\n",
    "print(li)"
   ]
  },
  {
   "cell_type": "markdown",
   "metadata": {},
   "source": [
    "O que ocorre, na verdade, é que a lista é separada em três partes, **antes**, **fatia** e **depois**, e a parte da fatia é substituída pelo que você pedir."
   ]
  },
  {
   "cell_type": "code",
   "execution_count": 22,
   "metadata": {
    "collapsed": false
   },
   "outputs": [
    {
     "name": "stdout",
     "output_type": "stream",
     "text": [
      "[1, [1, 2, 3], 42, 10, 11, 12, 13, 7]\n",
      "[1, 1, 2, 3, 42, 10, 11, 12, 13, 7]\n"
     ]
    }
   ],
   "source": [
    "# Note a diferença\n",
    "x = [1,2,3]\n",
    "\n",
    "tmp = li[:]  # copia li...\n",
    "tmp[1] = x   # e substitui o elemento de índice 1 por uma lista\n",
    "print(tmp)\n",
    "\n",
    "tmp = li[:]  # copia li...\n",
    "tmp[1:2] = x # e insere na lista substituindo o elemento de índice 1\n",
    "print(tmp)\n"
   ]
  },
  {
   "cell_type": "code",
   "execution_count": 23,
   "metadata": {
    "collapsed": false
   },
   "outputs": [
    {
     "name": "stdout",
     "output_type": "stream",
     "text": [
      "[1, 0, 0, 0, 1, 2, 3, 42, 10, 11, 12, 13, 7]\n"
     ]
    }
   ],
   "source": [
    "tmp[1:1] = [0,0,0] # insere no meio da lista\n",
    "print(tmp)"
   ]
  },
  {
   "cell_type": "markdown",
   "metadata": {},
   "source": [
    "###Strings"
   ]
  },
  {
   "cell_type": "code",
   "execution_count": 13,
   "metadata": {
    "collapsed": false
   },
   "outputs": [
    {
     "name": "stdout",
     "output_type": "stream",
     "text": [
      "('Tudo', 'isso', 'são\\ntrês', 'strings\\n\\n\\ndiferentes')\n",
      "strings\n",
      "\n",
      "\n",
      "diferentes\n"
     ]
    }
   ],
   "source": [
    "x = 'Tudo'\n",
    "y = \"isso\"\n",
    "z = \"\"\"são\n",
    "três\"\"\"\n",
    "w = '''strings\n",
    "\n",
    "\n",
    "diferentes'''\n",
    "print((x, y, z, w))\n",
    "print(w)"
   ]
  },
  {
   "cell_type": "markdown",
   "metadata": {},
   "source": [
    "Operações: \"aritméticas\""
   ]
  },
  {
   "cell_type": "code",
   "execution_count": 25,
   "metadata": {
    "collapsed": false
   },
   "outputs": [
    {
     "data": {
      "text/plain": [
       "('Tudoisso', 'TudoTudoTudo', 10)"
      ]
     },
     "execution_count": 25,
     "metadata": {},
     "output_type": "execute_result"
    }
   ],
   "source": [
    "x + y, x * 3, len(z)"
   ]
  },
  {
   "cell_type": "markdown",
   "metadata": {},
   "source": [
    "e indexação (strings são listas imutáveis)"
   ]
  },
  {
   "cell_type": "code",
   "execution_count": 26,
   "metadata": {
    "collapsed": false
   },
   "outputs": [
    {
     "name": "stdout",
     "output_type": "stream",
     "text": [
      "t\n",
      "gs\n",
      "\n",
      "\n",
      "difer\n"
     ]
    }
   ],
   "source": [
    "print(z[5])\n",
    "print(w[5:-5])"
   ]
  },
  {
   "cell_type": "markdown",
   "metadata": {},
   "source": [
    "###Pares e além\n",
    "\n",
    "Um par é construído como em matemática:\n",
    "\n",
    "    (1, 2)\n",
    "É possível fazer com mais dimensões:"
   ]
  },
  {
   "cell_type": "code",
   "execution_count": 27,
   "metadata": {
    "collapsed": false
   },
   "outputs": [
    {
     "data": {
      "text/plain": [
       "(1, 2, 3, 4, 5)"
      ]
     },
     "execution_count": 27,
     "metadata": {},
     "output_type": "execute_result"
    }
   ],
   "source": [
    "(1,2,3,4,5)"
   ]
  },
  {
   "cell_type": "markdown",
   "metadata": {},
   "source": [
    "e também usar vários níveis de \"pares\""
   ]
  },
  {
   "cell_type": "code",
   "execution_count": 28,
   "metadata": {
    "collapsed": false
   },
   "outputs": [
    {
     "data": {
      "text/plain": [
       "(1, (2, 3), (4, (5,)))"
      ]
     },
     "execution_count": 28,
     "metadata": {},
     "output_type": "execute_result"
    }
   ],
   "source": [
    "(1,(2,3),(4,(5,))) # Note a vírgula para que (5) != 5"
   ]
  },
  {
   "cell_type": "markdown",
   "metadata": {},
   "source": [
    "O além: é possível combinar tudo isso de várias formas:"
   ]
  },
  {
   "cell_type": "code",
   "execution_count": 29,
   "metadata": {
    "collapsed": false
   },
   "outputs": [
    {
     "name": "stdout",
     "output_type": "stream",
     "text": [
      "1\n",
      "(2, 3)\n",
      "set([4, 5])\n"
     ]
    }
   ],
   "source": [
    "listaestranha = [1, (2,3), {4,5}]\n",
    "for x in listaestranha:\n",
    "    print(x)"
   ]
  },
  {
   "cell_type": "code",
   "execution_count": 30,
   "metadata": {
    "collapsed": false
   },
   "outputs": [
    {
     "name": "stdout",
     "output_type": "stream",
     "text": [
      "((4, 5), '6')\n",
      "(1, (2, [3]))\n",
      "\n",
      "6\n"
     ]
    }
   ],
   "source": [
    "dicbizarro = {1:(2,[3]), (4,5):\"6\"}\n",
    "for k,v in dicbizarro.items():\n",
    "    print(k,v)\n",
    "\n",
    "print(\"\")\n",
    "print(dicbizarro[(4,5)])"
   ]
  },
  {
   "cell_type": "markdown",
   "metadata": {},
   "source": [
    "Módulos\n",
    "-------\n",
    "\n",
    "Esse é o sistema de \"bibliotecas\" de Python. E a biblioteca _standard_ do Python (em https://docs.python.org/3/library/index.html) é bastante completa.\n",
    "Alguns exemplos:\n",
    "\n",
    "- string\n",
    "- datetime, calendar\n",
    "- math, fractions, random\n",
    "- pickle, marshal\n",
    "- zipfile, tarfile\n",
    "- csv, configparser\n",
    "- os, time, argparse, getpass, logging\n",
    "- threading, multiprocessing, concurrent\n",
    "- email, html, xml, http\n",
    "- pydoc, unittest, timeit\n",
    "- sys\n"
   ]
  }
 ],
 "metadata": {
  "kernelspec": {
   "display_name": "Python 3",
   "language": "python",
   "name": "python3"
  },
  "language_info": {
   "codemirror_mode": {
    "name": "ipython",
    "version": 3
   },
   "file_extension": ".py",
   "mimetype": "text/x-python",
   "name": "python",
   "nbconvert_exporter": "python",
   "pygments_lexer": "ipython3",
   "version": "3.5.2"
  }
 },
 "nbformat": 4,
 "nbformat_minor": 0
}
