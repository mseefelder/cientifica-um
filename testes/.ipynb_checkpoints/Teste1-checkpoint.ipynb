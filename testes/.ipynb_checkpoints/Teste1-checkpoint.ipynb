{
 "cells": [
  {
   "cell_type": "markdown",
   "metadata": {},
   "source": [
    "# Parte 1: listas e _list comprehensions_\n",
    "\n",
    "## Exercício 1\n",
    "\n",
    "Escreva uma função `f_vetor(f,v)` que recebe uma função `f` e um vetor `v` (numa lista)\n",
    "e retorna o vetor com `f` calculada em cada coordenada de `v`.\n",
    "Em fórmulas, se $v = (v_i)$, então `f_vetor(f,v)` = $ (f(v_i)) $."
   ]
  },
  {
   "cell_type": "code",
   "execution_count": null,
   "metadata": {
    "collapsed": true,
    "deletable": false,
    "nbgrader": {
     "checksum": "0a87ae47cb0fe23369e7bb7f0ab207ab",
     "grade": false,
     "grade_id": "f_vetor_fun",
     "locked": false,
     "solution": true
    }
   },
   "outputs": [],
   "source": [
    "def f_vetor(f,v):\n",
    "    # YOUR CODE HERE\n",
    "    raise NotImplementedError()"
   ]
  },
  {
   "cell_type": "code",
   "execution_count": null,
   "metadata": {
    "collapsed": true,
    "deletable": false,
    "nbgrader": {
     "checksum": "a98122fc2d103dc49d96e1d027e15527",
     "grade": false,
     "grade_id": "sq_math",
     "locked": true,
     "solution": false
    }
   },
   "outputs": [],
   "source": [
    "import math\n",
    "def sq(x): return x**2"
   ]
  },
  {
   "cell_type": "markdown",
   "metadata": {},
   "source": [
    "Teste que sua função funciona na caixa abaixo (você pode também testar *outras* funções e vetores, e criar outras caixas!)"
   ]
  },
  {
   "cell_type": "code",
   "execution_count": null,
   "metadata": {
    "collapsed": false
   },
   "outputs": [],
   "source": [
    "f_vetor(sq, [1,2])"
   ]
  },
  {
   "cell_type": "code",
   "execution_count": null,
   "metadata": {
    "collapsed": true,
    "deletable": false,
    "nbgrader": {
     "checksum": "e8a36c7ae633bc535989ad47bae34562",
     "grade": true,
     "grade_id": "f_vetor_test1",
     "locked": true,
     "points": 2,
     "solution": false
    }
   },
   "outputs": [],
   "source": [
    "assert(f_vetor(sq, [1,3,5,7,9]) == [1, 9, 25, 49, 81])\n",
    "assert(f_vetor(math.sin, [0,1,2,3]) == [0.0, 0.8414709848078965, 0.9092974268256817, 0.1411200080598672])\n",
    "assert(f_vetor(math.ceil, [1.72, -8.29, 10.45, 9.1, 1.0, -4.1391213771510751]) == [2, -8, 11, 10, 1, -4])"
   ]
  },
  {
   "cell_type": "code",
   "execution_count": null,
   "metadata": {
    "collapsed": false,
    "deletable": false,
    "nbgrader": {
     "checksum": "8c68bbd17220f6582faf20ea1f3d66a2",
     "grade": true,
     "grade_id": "f_vetor_test2",
     "locked": true,
     "points": 2,
     "solution": false
    }
   },
   "outputs": [],
   "source": [
    "assert(f_vetor(sq, []) == [])\n",
    "assert(f_vetor(math.sin, []) == [])"
   ]
  },
  {
   "cell_type": "markdown",
   "metadata": {},
   "source": [
    "Agora, alguns testes aleatórios"
   ]
  },
  {
   "cell_type": "code",
   "execution_count": null,
   "metadata": {
    "collapsed": true
   },
   "outputs": [],
   "source": [
    "from numpy.random import random # Mais poderoso do que random.random"
   ]
  },
  {
   "cell_type": "code",
   "execution_count": null,
   "metadata": {
    "collapsed": false,
    "deletable": false,
    "nbgrader": {
     "checksum": "d8ff08f0da84ab8ebeed7b663f01aea6",
     "grade": true,
     "grade_id": "f_vetor_testrandom",
     "locked": true,
     "points": 3,
     "solution": false
    }
   },
   "outputs": [],
   "source": [
    "v = random(size=(10))\n",
    "assert(f_vetor(math.sqrt, f_vetor(sq, v)) == list(v))\n",
    "v = random(size=(10))\n",
    "assert(f_vetor(math.sin, f_vetor(math.asin, v)) == list(v))\n",
    "v = random(size=(30))\n",
    "assert(f_vetor(math.sqrt, f_vetor(sq, v)) == list(v))"
   ]
  },
  {
   "cell_type": "markdown",
   "metadata": {},
   "source": [
    "Explique porque no segundo teste a ordem das funções foi `math.sin` e depois `math.asin`, e não na ordem contrária."
   ]
  },
  {
   "cell_type": "markdown",
   "metadata": {
    "deletable": false,
    "nbgrader": {
     "checksum": "d6ef6a099d59f262a66da0faf4f002ae",
     "grade": true,
     "grade_id": "f_vetor_test_explain",
     "locked": false,
     "points": 2,
     "solution": true
    }
   },
   "source": [
    "YOUR ANSWER HERE"
   ]
  },
  {
   "cell_type": "markdown",
   "metadata": {},
   "source": [
    "## Exercício 2\n",
    "\n",
    "Escreva uma função que, dados dois vetores $u$ e $v$ (de novo, numa lista), \"complete\" o vetor `u` para que ele fique do tamanho do vetor `v`.\n",
    "Se a dimensão de $u$ for maior do que a de $v$, a função deve lançar a exceção `ValueError`."
   ]
  },
  {
   "cell_type": "code",
   "execution_count": null,
   "metadata": {
    "collapsed": true,
    "deletable": false,
    "nbgrader": {
     "checksum": "515a466fa351da5ba1c570551706a61d",
     "grade": false,
     "grade_id": "completar_fun",
     "locked": false,
     "solution": true
    }
   },
   "outputs": [],
   "source": [
    "def completar(u,v):\n",
    "    # YOUR CODE HERE\n",
    "    raise NotImplementedError()"
   ]
  },
  {
   "cell_type": "markdown",
   "metadata": {},
   "source": [
    "De novo, teste a sua função antes dos asserts (se você quiser)"
   ]
  },
  {
   "cell_type": "code",
   "execution_count": null,
   "metadata": {
    "collapsed": false,
    "deletable": false,
    "nbgrader": {
     "checksum": "3a22cc7819589302e5965326cca0c091",
     "grade": true,
     "grade_id": "completar_test1",
     "locked": true,
     "points": 2,
     "solution": false
    }
   },
   "outputs": [],
   "source": [
    "u = [1,2,3]\n",
    "v1 = [math.pi]*10\n",
    "v2 = [1,1,1,1,1,1]\n",
    "v3 = random(3)\n",
    "assert(completar(u,v1) == [1,2,3,0,0,0,0,0,0,0])\n",
    "assert(completar(u,v2) == [1,2,3,0,0,0])\n",
    "assert(completar(u,v3) == [1,2,3])"
   ]
  },
  {
   "cell_type": "markdown",
   "metadata": {},
   "source": [
    "A seguir, a função `verify_exc` verifica se, ao chamar uma outra função (`f`) ocorre a exceção `ex`."
   ]
  },
  {
   "cell_type": "code",
   "execution_count": null,
   "metadata": {
    "collapsed": true,
    "deletable": false,
    "nbgrader": {
     "checksum": "de8d9dea7efa38c78af6c6e4678c4025",
     "grade": false,
     "grade_id": "verify_ex",
     "locked": true,
     "solution": false
    }
   },
   "outputs": [],
   "source": [
    "def verify_exc(f, ex):\n",
    "    try:\n",
    "        f()\n",
    "        return False\n",
    "    except ex:\n",
    "        return True"
   ]
  },
  {
   "cell_type": "code",
   "execution_count": null,
   "metadata": {
    "collapsed": false,
    "deletable": false,
    "nbgrader": {
     "checksum": "e583a257def90c09e931977e2b8dbfe2",
     "grade": true,
     "grade_id": "completar_testmenos",
     "locked": true,
     "points": 1,
     "solution": false
    }
   },
   "outputs": [],
   "source": [
    "def completar_menos():\n",
    "    return completar(u, [1,2])\n",
    "\n",
    "assert(verify_exc(completar_menos, ValueError) == True)"
   ]
  },
  {
   "cell_type": "code",
   "execution_count": null,
   "metadata": {
    "collapsed": false,
    "deletable": false,
    "nbgrader": {
     "checksum": "a3734c18ce6c013abc53169c6aa28830",
     "grade": true,
     "grade_id": "completar_testzero",
     "locked": true,
     "points": 3,
     "solution": false
    }
   },
   "outputs": [],
   "source": [
    "def completar_a_zero():\n",
    "    return completar(u, [])\n",
    "\n",
    "assert( completar([], [1,2,3]) == [0,0,0] )\n",
    "assert( completar([], []) == [])\n",
    "assert( verify_exc(completar_a_zero, ValueError) == True )"
   ]
  },
  {
   "cell_type": "markdown",
   "metadata": {},
   "source": [
    "## Exercício 3:\n",
    "\n",
    "Adapte a função `f_vetor` para uma função `f_matriz`."
   ]
  },
  {
   "cell_type": "code",
   "execution_count": null,
   "metadata": {
    "collapsed": true,
    "deletable": false,
    "nbgrader": {
     "checksum": "39775fdc799ca7535a90ce8d05ac7951",
     "grade": false,
     "grade_id": "f_matriz_fun",
     "locked": false,
     "solution": true
    }
   },
   "outputs": [],
   "source": [
    "def f_matriz(f,m):\n",
    "    # YOUR CODE HERE\n",
    "    raise NotImplementedError()"
   ]
  },
  {
   "cell_type": "code",
   "execution_count": null,
   "metadata": {
    "collapsed": false,
    "deletable": false,
    "nbgrader": {
     "checksum": "8a8fb38d80c99f56e7d8983a1c78e13f",
     "grade": true,
     "grade_id": "f_matriz_test1",
     "locked": true,
     "points": 2,
     "solution": false
    }
   },
   "outputs": [],
   "source": [
    "x = math.sin(1)\n",
    "y = math.sin(2)\n",
    "z = math.sin(3)\n",
    "assert( f_matriz(math.sin, [[]]) == [[]])\n",
    "assert( f_matriz(math.sin, [[1,2],[3,0]]) == [[x,y],[z,0.0]])"
   ]
  },
  {
   "cell_type": "code",
   "execution_count": null,
   "metadata": {
    "collapsed": true,
    "deletable": false,
    "nbgrader": {
     "checksum": "d1c2ae1ac6e3beba6a78899db6d9281e",
     "grade": true,
     "grade_id": "f_matriz_testexc",
     "locked": true,
     "points": 2,
     "solution": false
    }
   },
   "outputs": [],
   "source": [
    "def teste_vetor():\n",
    "    return f_matriz(math.sin, [1,2,3])\n",
    "\n",
    "assert( verify_exc(teste_vetor, TypeError) )"
   ]
  },
  {
   "cell_type": "markdown",
   "metadata": {},
   "source": [
    "# Parte 2: Recorrências\n",
    "\n",
    "Escreva uma função **recursiva** que retorne o $n$-ésimo número de \"Tribonacci\", definido pelas equações\n",
    "$$ T_0 = 0 \\qquad T_1 = 1 \\qquad T_2 = 1$$\n",
    "$$ F_{n+3} = F_{n+2} + F_{n+1} + F_n. $$"
   ]
  },
  {
   "cell_type": "code",
   "execution_count": null,
   "metadata": {
    "collapsed": true,
    "deletable": false,
    "nbgrader": {
     "checksum": "914478c6e1387ed3244558b041d075c1",
     "grade": false,
     "grade_id": "fibo_fun",
     "locked": false,
     "solution": true
    }
   },
   "outputs": [],
   "source": [
    "def tribonacci(n):\n",
    "    # YOUR CODE HERE\n",
    "    raise NotImplementedError()"
   ]
  },
  {
   "cell_type": "markdown",
   "metadata": {},
   "source": [
    "Teste que a sua função funciona!"
   ]
  },
  {
   "cell_type": "code",
   "execution_count": null,
   "metadata": {
    "collapsed": false
   },
   "outputs": [],
   "source": [
    "tribonacci(20)"
   ]
  },
  {
   "cell_type": "markdown",
   "metadata": {},
   "source": [
    "Agora, os testes que valem ponto!"
   ]
  },
  {
   "cell_type": "code",
   "execution_count": null,
   "metadata": {
    "collapsed": false,
    "deletable": false,
    "nbgrader": {
     "checksum": "d95bfb21d789cf520341acc9eabdc4aa",
     "grade": true,
     "grade_id": "fibo_teste",
     "locked": true,
     "points": 2,
     "solution": false
    }
   },
   "outputs": [],
   "source": [
    "assert(tribonacci(5) == 7)\n",
    "assert(tribonacci(10) == 149)\n",
    "assert(tribonacci(20) == 66012)"
   ]
  },
  {
   "cell_type": "markdown",
   "metadata": {},
   "source": [
    "É sabido que a solução para uma recorrência linear é dada por uma combinação de potências.\n",
    "No nosso caso, $T_n = A a^n + B b^n + C c^n$ onde $a$, $b$ e $c$ são as raízes de $x^3 = x^2 + x + 1$."
   ]
  },
  {
   "cell_type": "markdown",
   "metadata": {},
   "source": [
    "Verifique (numericamente) que $T_{n+1} / T_n$ converge. Para qual valor? De quantos dígitos você tem certeza?"
   ]
  },
  {
   "cell_type": "code",
   "execution_count": null,
   "metadata": {
    "collapsed": true
   },
   "outputs": [],
   "source": [
    "# Use esta caixa (e outras, se quiser) para fazer contas"
   ]
  },
  {
   "cell_type": "markdown",
   "metadata": {
    "deletable": false,
    "nbgrader": {
     "checksum": "324a5d91ca3da021d1259b941bd6c891",
     "grade": true,
     "grade_id": "fibo_limite",
     "locked": false,
     "points": 3,
     "solution": true
    }
   },
   "source": [
    "YOUR ANSWER HERE"
   ]
  },
  {
   "cell_type": "markdown",
   "metadata": {},
   "source": [
    "Observe que calcular `tribonacci(30)` pode demorar um pouco. Isso porque a função recursiva se chama muitas vezes.\n",
    "\n",
    "Seja $C_n$ o número de vezes que a função `tribonacci` é chamada para calcular $T_n$.\n",
    "Escreva a recorrência que $C_n$ satisfaz (e as condições iniciais!)."
   ]
  },
  {
   "cell_type": "markdown",
   "metadata": {
    "deletable": false,
    "nbgrader": {
     "checksum": "c901040b3ae569daff196452f470365e",
     "grade": true,
     "grade_id": "rec_calls_rec",
     "locked": false,
     "points": 3,
     "solution": true
    }
   },
   "source": [
    "YOUR ANSWER HERE"
   ]
  },
  {
   "cell_type": "markdown",
   "metadata": {},
   "source": [
    "Agora, programe a função que *calcula* $C_n$!"
   ]
  },
  {
   "cell_type": "code",
   "execution_count": null,
   "metadata": {
    "collapsed": true,
    "deletable": false,
    "nbgrader": {
     "checksum": "092855b43fc93dd208431bd2908134c4",
     "grade": true,
     "grade_id": "rec_calls_count_fun",
     "locked": false,
     "points": 3,
     "solution": true
    }
   },
   "outputs": [],
   "source": [
    "def c(n):\n",
    "    # YOUR CODE HERE\n",
    "    raise NotImplementedError()"
   ]
  }
 ],
 "metadata": {
  "kernelspec": {
   "display_name": "Python 3",
   "language": "python",
   "name": "python3"
  },
  "language_info": {
   "codemirror_mode": {
    "name": "ipython",
    "version": 3
   },
   "file_extension": ".py",
   "mimetype": "text/x-python",
   "name": "python",
   "nbconvert_exporter": "python",
   "pygments_lexer": "ipython3",
   "version": "3.5.2"
  }
 },
 "nbformat": 4,
 "nbformat_minor": 0
}
