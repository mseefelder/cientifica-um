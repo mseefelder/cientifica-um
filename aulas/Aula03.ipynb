{
 "cells": [
  {
   "cell_type": "markdown",
   "metadata": {},
   "source": [
    "Plano de hoje\n",
    "-------------\n",
    "\n",
    "1. Ambiente de programação\n",
    "    1. Interpretador interativo, Interpretador de arquivos, iPython\n",
    "    1. Revisão da sintaxe de python\n",
    "    1. Funções\n",
    "    1. **Números \"reais\"**\n",
    "    1. NumPy, SciPy: Matrizes e o mais\n",
    "    1. MatPlotLib: gráficos\n",
    "\n",
    "2. Usando o computador para calcular    \n",
    "    1. **Indução e algoritmos recursivos: o método da bisseção**\n"
   ]
  },
  {
   "cell_type": "markdown",
   "metadata": {},
   "source": [
    "# Números \"reais\"\n",
    "\n",
    "É impossível representar todos os números reais no computador: este tem uma capacidade finita, enquanto aqueles são infinitos (e, pior, não-enumeráveis...). Assim, utilizaremos uma _aproximação_ dos mesmos.\n",
    "\n",
    "A primeira observação é que, num computador, sempre existe um _maior número \"real\"_, pois um computador é capaz de representar apenas uma quantidade finita de números.\n",
    "A segunda é que sempre existe um _próximo número \"real\"_, mais uma vez porque há apenas uma quantidade finita deles.\n",
    "\n",
    "Dado isto, uma idéia simples para representar números reais seria considerar que a cada número inteiro corresponde um número real, através de uma fórmula do tipo\n",
    "$$ real = \\frac{inteiro}{10^9} $$\n",
    "Isto é o que chamamos **ponto fixo**.\n",
    "Este nome vem de imaginarmos que existe um ponto (implícito) no número inteiro que o computador vê,\n",
    "e cuja posição é fixa (dada pelo $10^9$).\n",
    "\n",
    "É claro que a escolha de $10^9$ para o denominador é completamente arbitrária,\n",
    "e diferentes sistemas poderiam escolher diferentes denominadores.\n",
    "Assim, uma representação em ponto fixo é dada por\n",
    "$$\\frac{inteiro}{den} \\qquad \\text{onde o denominador $den$ está fixo.}$$"
   ]
  },
  {
   "cell_type": "markdown",
   "metadata": {},
   "source": [
    "### Exercício: Investigando as possibilidades do \"ponto fixo\"\n",
    "Os números inteiros em um computador moderno são em geral os inteiros do intervalo $[- 2^{63}, 2^{63} - 1]$.\n",
    "\n",
    "1. Deduza a precisão e a amplitude dos números que podem ser representados em ponto fixo se quisermos 15 casas decimais significativas, ou seja, respectivamente:\n",
    "    - qual o **menor** \"real\" maior que zero;\n",
    "    - qual o **maior** \"real\".\n",
    "1. Idem para 5, 10 e 20 casas decimais.\n",
    "1. Use a Wikipédia e descubra uma constante física que seja conhecida com o maior número possível de casas decimais.\n",
    "1. Observe a precisão e a amplitude das constantes físicas que você procurou.\n",
    "1. Conclua."
   ]
  },
  {
   "cell_type": "markdown",
   "metadata": {},
   "source": [
    "# O método da bisseção\n",
    "\n",
    "O método da bisseção foi um dos primeiros métodos para achar raízes de funções \"complicadas\".\n",
    "Ele é bastante simples, e esta simplicidade é também o seu poder.\n",
    "\n",
    "Suponha que $f$ seja uma função contínua, e que $f(a)$ e $f(b)$ tenham sinais opostos.\n",
    "O **Teorema do valor intermediário** garante que existe uma raiz de $f$ no segmento $[a,b]$.\n",
    "Mais ainda, a _prova_ deste teorema é construtiva e nos dá um algoritmo para achar esta raiz:\n",
    "\n",
    "- Considere $m = (a+b)/2$ o ponto médio de $[a,b]$, e calcule $f(m)$.\n",
    "- Pode ser (com muita sorte) que $f(m) = 0$. Neste caso, acabou.\n",
    "- Senão, $f(m)$ será positivo ou negativo, e como $f(a)$ e $f(b)$ têm sinais contrários, então\n",
    "    - ou $f(a)$ e $f(m)$ têm sinais contrários\n",
    "    - ou $f(b)$ e $f(m)$ têm sinais contrários\n",
    "- Assim, podemos continuar buscando uma raíz na metade \"certa\" do intervalo original."
   ]
  },
  {
   "cell_type": "markdown",
   "metadata": {},
   "source": [
    "## Implementando a bisseção\n",
    "\n",
    "Como vamos usar um computador, temos que levar em consideração que:\n",
    "\n",
    "- As contas no computador podem não dar zero para uma raiz, por erro de precisão;\n",
    "- E mesmo assim, em geral este método nunca termina, pois só obtemos a raiz pelo limite dos intervalos encaixados.\n",
    "\n",
    "Portanto, e de forma bastante razoável, temos que limitar as nossas espectativas.\n",
    "Uma forma interessante é pedir que a raiz seja calculada com uma certa precisão, digamos $10^{-6}$.\n",
    "Neste caso, nós podemos **garantir** que esta precisão será atingida,\n",
    "e portanto a resposta que o nosso método fornece não é apenas \"um chute\", mas ela é **certificada** pelo erro que a acompanha."
   ]
  },
  {
   "cell_type": "code",
   "execution_count": 1,
   "metadata": {
    "collapsed": false
   },
   "outputs": [],
   "source": [
    "def bissecao(f,a,b,prec):\n",
    "    \"\"\" Método da bisseção para uma função f no intervalo [a,b]. \"\"\"\n",
    "    m = (a+b)/2\n",
    "    # Se já há precisão suficiente, retornamos o ponto médio do intervalo\n",
    "    if abs(b - a) < prec: return m\n",
    "    # Se f(m) == 0, achamos uma raiz exata!\n",
    "    if f(m) == 0: return m\n",
    "\n",
    "    # Senão, vamos por recorrência\n",
    "    if f(m)*f(a) < 0: return bissecao(f,a,m,prec)\n",
    "    else: return bissecao(f,m,b,prec)"
   ]
  },
  {
   "cell_type": "markdown",
   "metadata": {},
   "source": [
    "## Testando\n",
    "\n",
    "Uma das tarefas mais importantes ao se escrever um programa é ter certeza de que ele funciona corretamente.\n",
    "Pode-se fazer isso de duas formas bastante complementares:\n",
    "\n",
    "- Testando uma quantidade de casos interessantes e conhecidos.\n",
    "- Provando (formalmente) que certas partes sempre irão dar o resultado correto.\n",
    "\n",
    "A primeira maneira é mais simples, e já é capaz de nos dar uma certa confiança na qualidade do nosso programa.\n",
    "A segunda requer uma formalização maior do problema original e da nossa linguagem de programação.\n",
    "Vamos tentar desenvolver as duas em paralelo.\n",
    "\n",
    "Um exemplo de teste: o cosseno tem uma raiz, $\\pi/2$, no intervalo [0,3]."
   ]
  },
  {
   "cell_type": "code",
   "execution_count": 2,
   "metadata": {
    "collapsed": false
   },
   "outputs": [
    {
     "data": {
      "text/plain": [
       "1.5707963705062866"
      ]
     },
     "execution_count": 2,
     "metadata": {},
     "output_type": "execute_result"
    }
   ],
   "source": [
    "from math import cos\n",
    "bissecao(cos,0,3, 1e-6)"
   ]
  },
  {
   "cell_type": "code",
   "execution_count": 3,
   "metadata": {
    "collapsed": false
   },
   "outputs": [
    {
     "data": {
      "text/plain": [
       "-4.371139006309477e-08"
      ]
     },
     "execution_count": 3,
     "metadata": {},
     "output_type": "execute_result"
    }
   ],
   "source": [
    "from math import pi\n",
    "pi/2 - _"
   ]
  },
  {
   "cell_type": "markdown",
   "metadata": {},
   "source": [
    "Nossa função `bissecao` é muito poderosa: ela aplica o método da bisseção a qualquer função que você possa programar em Python!\n",
    "Por exemplo:"
   ]
  },
  {
   "cell_type": "code",
   "execution_count": 4,
   "metadata": {
    "collapsed": true
   },
   "outputs": [],
   "source": [
    "def estranha(x):\n",
    "    return 2**x - x**2"
   ]
  },
  {
   "cell_type": "code",
   "execution_count": 5,
   "metadata": {
    "collapsed": false
   },
   "outputs": [
    {
     "data": {
      "text/plain": [
       "-0.766664981842041"
      ]
     },
     "execution_count": 5,
     "metadata": {},
     "output_type": "execute_result"
    }
   ],
   "source": [
    "bissecao(estranha, -1, 0, 1e-6)"
   ]
  },
  {
   "cell_type": "markdown",
   "metadata": {},
   "source": [
    "## Provando\n",
    "\n",
    "Seria interessante provar que o nosso método de bisseção realmente funciona.\n",
    "Para isso, precisamos especificar de forma mais precisa o que iremos calcular.\n",
    "\n",
    "- Como já foi dito, queremos apenas que o valor retornado pela _procedure_ `bissecao` seja um número real $x$ cuja distância a alguma raiz $r$ de $f$ seja menor do que `prec`.\n",
    "- Para isso precisamos também supor que $f$ seja contínua, e que $f(a)$ e $f(b)$ tenham sinais opostos.\n",
    "- Além disso (e para simplificar), vamos supor que a _procedure_ `f` calcula **exatamente** o valor da função $f$.\n",
    "\n",
    "É aqui que vamos usar a forma recursiva da nossa _procedure_ `bissecao` para guiar a demonstração.\n",
    "Note que a única forma de sair da função é quando o teste sobre o valor absoluto é verdadeiro:\n",
    "nos outros casos, sempre vamos \"chamar de novo\" a `bissecao`, e portanto podemos assumir (por indução!) que quando esta próxima chamada retornar, o resultado satisfaz as propriedades desejadas.\n",
    "\n",
    "De novo, e com mais detalhes. Faça indução no número de vezes que a _procedure_ chama a si mesma:\n",
    "\n",
    "- **[Base]** Se for zero, é porque ela retorna direto, porque o `if` é verdadeiro ; isso garante que a resposta está dentro de um intervalo cujo diâmetro é inferior a `prec`, e que contém a raiz $r$.\n",
    "- **[Passo]** Se for $n+1$, a instância que será chamada \"de dentro\" só pode chamar a si mesma $n$ vezes ; por indução, ela retorna um real `x` a uma distância menor do que `prec` da raiz $r$, e este mesmo valor será retornado pela instância principal."
   ]
  },
  {
   "cell_type": "markdown",
   "metadata": {},
   "source": [
    "# Uma digressão sobre nomenclatura\n",
    "\n",
    "Vamos, ao longo do curso, tratar de funções de dois tipos:\n",
    "- As funções matemáticas, como seno, exponencial, polinômios, etc.\n",
    "- As funções do seu programa em Python.\n",
    "\n",
    "O simples fato de os nomes serem os mesmos já pode levar a confusão.\n",
    "Mas, principalmente, a maior parte das funções-programas que nós veremos durante o curso irão trabalhar com funções-contas.\n",
    "Assim, à imagem do método da bisseção, teremos muitas vezes funções da forma\n",
    "\n",
    "``` def metodoX(f, a, b, c, ...):\n",
    "    contas...\n",
    "    contas...\n",
    "    return\n",
    "```\n",
    "\n",
    "que irá aplicar o método X à função `f`, uma função-programa que _calcula_ a função matemática muitas vezes também chamada $f$.\n",
    "\n",
    "Para tentar diminuir a ambigüidade, sempre que necessário iremos usar uma palavra computacional, tal como\n",
    "\n",
    "- procedimento, método, rotina, algoritmo\n",
    "\n",
    "para indicar que se trata de um programa em Python, e iremos reservar a palavra função (às vezes incrementada do adjetivo \"matemática\") para as funções abstratas da Matemática."
   ]
  },
  {
   "cell_type": "markdown",
   "metadata": {},
   "source": [
    "### Exercício: bisseção, precisão, e ponto fixo\n",
    "\n",
    "Imagine o que acontece quando sempre escolhemos o intervalo da esquerda ao aplicar o método da bisseção.\n",
    "O último intervalo que pode ser produzido desta forma é $[a, next(a)]$, onde $next(a)$ é o \"próximo número real\" para o seu computador.\n",
    "\n",
    "Use esta observação para escrever uma _procedure_ que calcula o \"próximo número real\"."
   ]
  },
  {
   "cell_type": "code",
   "execution_count": 6,
   "metadata": {
    "collapsed": false
   },
   "outputs": [],
   "source": [
    "def biss_esquerda(a,b):\n",
    "    \"\"\" Efetua a divisão do intervalo [a,b], recursivamente, sempre pegando o intervalo da esquerda.\n",
    "        Quando o intervalo contém apenas dois números, retorna o maior.\n",
    "    \"\"\"\n",
    "    pass\n",
    "\n",
    "def next_real(x):\n",
    "    \"\"\" Retorna o próximo número real.\"\"\"\n",
    "    pass"
   ]
  },
  {
   "cell_type": "markdown",
   "metadata": {},
   "source": [
    "Façamos alguns testes:"
   ]
  },
  {
   "cell_type": "code",
   "execution_count": 7,
   "metadata": {
    "collapsed": false
   },
   "outputs": [
    {
     "data": {
      "text/plain": [
       "(1.0000000000000002,\n",
       " 1.0000000000000004,\n",
       " 10.000000000000002,\n",
       " 1000.0000000000001)"
      ]
     },
     "execution_count": 7,
     "metadata": {},
     "output_type": "execute_result"
    }
   ],
   "source": [
    "next_real(1.0), next_real(next_real(1.0)), next_real(10.0), next_real(1000.0)"
   ]
  },
  {
   "cell_type": "markdown",
   "metadata": {},
   "source": [
    "O seu computador usa pontos fixos?\n",
    "\n",
    "Para confirmar, escreva uma rotina que dê a diferença absoluta e relativa entre um número `x` e o seu sucessor."
   ]
  },
  {
   "cell_type": "code",
   "execution_count": 8,
   "metadata": {
    "collapsed": true
   },
   "outputs": [],
   "source": [
    "def diff_next(x):\n",
    "    pass"
   ]
  },
  {
   "cell_type": "code",
   "execution_count": 9,
   "metadata": {
    "collapsed": false
   },
   "outputs": [
    {
     "data": {
      "text/plain": [
       "((2.220446049250313e-16, 2.220446049250313e-16),\n",
       " (1.7763568394002505e-15, 1.7763568394002506e-16),\n",
       " (1.1368683772161603e-13, 1.1368683772161603e-16))"
      ]
     },
     "execution_count": 9,
     "metadata": {},
     "output_type": "execute_result"
    }
   ],
   "source": [
    "diff_next(1.), diff_next(10.), diff_next(1000.)"
   ]
  },
  {
   "cell_type": "markdown",
   "metadata": {},
   "source": [
    "Antes de continuar testando, vamos tentar provar que o nosso programa está certo.\n",
    "\n",
    "- A hipótese básica sobre a aritmética do computador é que ele sempre retorna \"o número representável mais próximo do valor real da conta\". Ou seja, se tivermos números $a$ e $b$ e pedirmos para o computador calcular `c = a+b`, ele retornará o número que \"ele conhece\" que está mais próximo de $a+b$.\n",
    "- No caso de \"empate\", ou seja, haver dois números `x` e `y = next_real(x)` que são equidistantes do resultado $a+b$, o computador pode retornar `x` ou `y`.\n",
    "\n",
    "Apenas com isso, não podemos ainda garantir que o nosso programa está correto. Quais outras hipóteses você precisa adicionar para garantir o bom funcionamento do seu algoritmo?"
   ]
  },
  {
   "cell_type": "markdown",
   "metadata": {},
   "source": [
    "Algumas ideias:\n",
    "\n",
    "- Será que precisamos de uma hipótese sobre o espaçamento entre dois números consecutivos?\n",
    "- Será que precisamos de alguma hipótese sobre o zero?\n",
    "- Será que precisamos que o computador conheça `-x` se ele conhece `x`?\n",
    "- ..."
   ]
  },
  {
   "cell_type": "markdown",
   "metadata": {},
   "source": [
    "Agora que nós estudamos o nosso algoritmo, e sabemos algumas condições que o farão dar o resultado certo, vamos submetê-lo a mais alguns testes.\n",
    "\n",
    "Começamos com os números negativos."
   ]
  },
  {
   "cell_type": "code",
   "execution_count": 10,
   "metadata": {
    "collapsed": false
   },
   "outputs": [
    {
     "data": {
      "text/plain": [
       "(-0.9999999999999999,\n",
       " -0.9999999999999998,\n",
       " -9.999999999999998,\n",
       " -999.9999999999999)"
      ]
     },
     "execution_count": 10,
     "metadata": {},
     "output_type": "execute_result"
    }
   ],
   "source": [
    "next_real(-1.0), next_real(next_real(-1.0)), next_real(-10.0), next_real(-1000.0)"
   ]
  },
  {
   "cell_type": "markdown",
   "metadata": {},
   "source": [
    "E alguns números BEM pequenos!"
   ]
  },
  {
   "cell_type": "code",
   "execution_count": 11,
   "metadata": {
    "collapsed": false
   },
   "outputs": [
    {
     "data": {
      "text/plain": [
       "(5e-324, 1e-323, 1.0000000000000001e-100, -9.999999999999999e-101)"
      ]
     },
     "execution_count": 11,
     "metadata": {},
     "output_type": "execute_result"
    }
   ],
   "source": [
    "next_real(0), next_real(next_real(0)), next_real(1e-100), next_real(-1e-100)"
   ]
  },
  {
   "cell_type": "markdown",
   "metadata": {},
   "source": [
    "Como seria a função para o número \"real\" _anterior_? Será que alguma hipótese sobre os números negativos pode tornar esta função bem mais fácil?"
   ]
  }
 ],
 "metadata": {
  "kernelspec": {
   "display_name": "Python 3",
   "language": "python",
   "name": "python3"
  },
  "language_info": {
   "codemirror_mode": {
    "name": "ipython",
    "version": 3
   },
   "file_extension": ".py",
   "mimetype": "text/x-python",
   "name": "python",
   "nbconvert_exporter": "python",
   "pygments_lexer": "ipython3",
   "version": "3.5.2"
  }
 },
 "nbformat": 4,
 "nbformat_minor": 0
}
