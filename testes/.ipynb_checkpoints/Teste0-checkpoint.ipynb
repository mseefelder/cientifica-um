{
 "cells": [
  {
   "cell_type": "markdown",
   "metadata": {},
   "source": [
    "# Teste para treinar\n",
    "Este teste servirá como \"teste\" da plataforma de testes e provas para o curso de Computação Científica I. Assim, você poderá ter uma ideia de como serão corrigidas\n",
    "    - as listas de exercícios\n",
    "    - as provas"
   ]
  },
  {
   "cell_type": "markdown",
   "metadata": {},
   "source": [
    "## Questão 1\n",
    "Escreva uma função `squares` tal que, dado um inteiro $n \\ge 0$, retorna a lista de todos os quadrados de $0$ até $n^2$."
   ]
  },
  {
   "cell_type": "code",
   "execution_count": 1,
   "metadata": {
    "collapsed": false,
    "deletable": false,
    "nbgrader": {
     "checksum": "de69a566558f6ab94e96d457146380ee",
     "grade": false,
     "grade_id": "squares_function",
     "locked": false,
     "points": 3,
     "solution": true
    }
   },
   "outputs": [],
   "source": [
    "# YOUR CODE HERE\n",
    "def squares(n):\n",
    "    return [i*i for i in range(n+1)]"
   ]
  },
  {
   "cell_type": "code",
   "execution_count": 2,
   "metadata": {
    "collapsed": false
   },
   "outputs": [
    {
     "data": {
      "text/plain": [
       "[0, 1, 4, 9, 16, 25]"
      ]
     },
     "execution_count": 2,
     "metadata": {},
     "output_type": "execute_result"
    }
   ],
   "source": [
    "# Teste aqui a sua função antes de passar para a parte dos \"asserts\" abaixo.\n",
    "squares(5) # Deveria produzir a lista [0, 1, 4, 9, 16, 25]"
   ]
  },
  {
   "cell_type": "markdown",
   "metadata": {},
   "source": [
    "A caixa a seguir contém testes que serão efetuados sobre a sua função.\n",
    "    - Se algum teste falhar, você verá uma mensagem com `Assertion Error`.\n",
    "    - Senão, você verá a mensagem \"Tudo ok\".\n",
    "\n",
    "Não apague: é ela que conta os pontos da questão!"
   ]
  },
  {
   "cell_type": "code",
   "execution_count": 3,
   "metadata": {
    "collapsed": false,
    "deletable": false,
    "nbgrader": {
     "checksum": "c7fc68ca22ecb215eff99b3a3aa796ea",
     "grade": true,
     "grade_id": "squares_test",
     "locked": true,
     "points": 3,
     "solution": false
    }
   },
   "outputs": [
    {
     "name": "stdout",
     "output_type": "stream",
     "text": [
      "Tudo ok!\n"
     ]
    }
   ],
   "source": [
    "assert(squares(0) == [0])\n",
    "assert(squares(5) == [0, 1, 4, 9, 16, 25])\n",
    "assert(squares(10) == [0, 1, 4, 9, 16, 25, 36, 49, 64, 81, 100])\n",
    "print(\"Tudo ok!\")"
   ]
  },
  {
   "cell_type": "markdown",
   "metadata": {},
   "source": [
    "## Questão 2\n",
    "Escreva uma função `sqsum(n)` que retorna a soma de todos os quadrados de $1$ até $n$."
   ]
  },
  {
   "cell_type": "code",
   "execution_count": 4,
   "metadata": {
    "collapsed": false,
    "deletable": false,
    "nbgrader": {
     "checksum": "82138e11e095323ef2edfdde18bf29f4",
     "grade": false,
     "grade_id": "sqsum_function",
     "locked": false,
     "solution": true
    }
   },
   "outputs": [],
   "source": [
    "# YOUR CODE HERE\n",
    "def sqsum(n):\n",
    "    return sum(squares(n))"
   ]
  },
  {
   "cell_type": "code",
   "execution_count": 5,
   "metadata": {
    "collapsed": false
   },
   "outputs": [
    {
     "data": {
      "text/plain": [
       "385"
      ]
     },
     "execution_count": 5,
     "metadata": {},
     "output_type": "execute_result"
    }
   ],
   "source": [
    "# Teste aqui a sua função.\n",
    "# Você pode criar várias caixas de teste a mais sem problemas.\n",
    "sqsum(10)"
   ]
  },
  {
   "cell_type": "code",
   "execution_count": 6,
   "metadata": {
    "collapsed": false
   },
   "outputs": [
    {
     "data": {
      "text/plain": [
       "333833500"
      ]
     },
     "execution_count": 6,
     "metadata": {},
     "output_type": "execute_result"
    }
   ],
   "source": [
    "sqsum(1000)"
   ]
  },
  {
   "cell_type": "markdown",
   "metadata": {},
   "source": [
    "Novamente, a caixa abaixo contém testes para a sua função."
   ]
  },
  {
   "cell_type": "code",
   "execution_count": 7,
   "metadata": {
    "collapsed": false,
    "deletable": false,
    "nbgrader": {
     "checksum": "90759196d22989406c1c8f645e156510",
     "grade": true,
     "grade_id": "sqsum_test",
     "locked": true,
     "points": 3,
     "solution": false
    }
   },
   "outputs": [
    {
     "name": "stdout",
     "output_type": "stream",
     "text": [
      "Tudo ok!\n"
     ]
    }
   ],
   "source": [
    "assert(sqsum(5) == 55)\n",
    "assert(sqsum(10) == 385)\n",
    "assert(sqsum(123) == 627874)\n",
    "print(\"Tudo ok!\")"
   ]
  },
  {
   "cell_type": "markdown",
   "metadata": {},
   "source": [
    "A caixa a seguir também contém testes, mas agora eu não digo quais serão.\n",
    "\n",
    "Vale lembrar, mais uma vez, a mesma observação de antes: mantenha esta caixa: ela contém os pontos referentes aos testes, mesmo que você não os possa ver."
   ]
  },
  {
   "cell_type": "code",
   "execution_count": null,
   "metadata": {
    "collapsed": true,
    "deletable": false,
    "nbgrader": {
     "checksum": "4b3e8d13cde17b988a2313626df97124",
     "grade": true,
     "grade_id": "sqsum_test2",
     "locked": true,
     "points": 3,
     "solution": false
    }
   },
   "outputs": [],
   "source": []
  },
  {
   "cell_type": "markdown",
   "metadata": {},
   "source": [
    "### Observação\n",
    "\n",
    "Para ter certeza que este notebook será corrigido corretamente, o melhor é rodar tudo \"de uma vez só, do zero\".\n",
    "Para simular isto, use o menu: `Kernel -> Restart & Run All`."
   ]
  }
 ],
 "metadata": {
  "kernelspec": {
   "display_name": "Python 3",
   "language": "python",
   "name": "python3"
  },
  "language_info": {
   "codemirror_mode": {
    "name": "ipython",
    "version": 3
   },
   "file_extension": ".py",
   "mimetype": "text/x-python",
   "name": "python",
   "nbconvert_exporter": "python",
   "pygments_lexer": "ipython3",
   "version": "3.5.2"
  }
 },
 "nbformat": 4,
 "nbformat_minor": 0
}
