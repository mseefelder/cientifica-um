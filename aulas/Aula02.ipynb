{
 "cells": [
  {
   "cell_type": "markdown",
   "metadata": {},
   "source": [
    "Plano de hoje\n",
    "-------------\n",
    "\n",
    "1. Ambiente de programação\n",
    "    1. Interpretador interativo, Interpretador de arquivos, iPython\n",
    "    1. Revisão da sintaxe de python\n",
    "    1. **Funções, funções recursivas**"
   ]
  },
  {
   "cell_type": "markdown",
   "metadata": {},
   "source": [
    "Funções\n",
    "=======\n",
    "\n",
    "Uma função consolida uma sucessão de instruções (ou, muitas vezes durante este curso, uma fórmula) com um nome simples."
   ]
  },
  {
   "cell_type": "code",
   "execution_count": 16,
   "metadata": {
    "collapsed": false
   },
   "outputs": [],
   "source": [
    "def sq(x):\n",
    "    return x*x"
   ]
  },
  {
   "cell_type": "code",
   "execution_count": 17,
   "metadata": {
    "collapsed": false
   },
   "outputs": [],
   "source": [
    "def hyp(a,b):\n",
    "    return sqrt(a*a + b*b)"
   ]
  },
  {
   "cell_type": "code",
   "execution_count": 18,
   "metadata": {
    "collapsed": false
   },
   "outputs": [],
   "source": [
    "def quinto_menor(li):\n",
    "    s = sorted(li)\n",
    "    if len(s) < 5:\n",
    "        return None\n",
    "    else:\n",
    "        return s[4] # /!\\ O quinto elemento tem índice 4."
   ]
  },
  {
   "cell_type": "markdown",
   "metadata": {},
   "source": [
    "### Exercício\n",
    "\n",
    "Escreva uma função que retorna o cubo de um número."
   ]
  },
  {
   "cell_type": "code",
   "execution_count": 19,
   "metadata": {
    "collapsed": true
   },
   "outputs": [],
   "source": [
    "def cubo(x):\n",
    "    return x*x*x"
   ]
  },
  {
   "cell_type": "markdown",
   "metadata": {},
   "source": [
    "### Exercício\n",
    "\n",
    "Uma função não precisa retornar um valor (ou seja, terminar com o comando `return`).\n",
    "Invente uma função cuja utilidade não seja retornar alguma coisa."
   ]
  },
  {
   "cell_type": "code",
   "execution_count": 20,
   "metadata": {
    "collapsed": false
   },
   "outputs": [],
   "source": [
    "def sub(a,b):\n",
    "    print(a-b)\n",
    "    \n",
    "def sub_list(a,b):\n",
    "    a[:] = filter(lambda x: x not in b, a)"
   ]
  },
  {
   "cell_type": "markdown",
   "metadata": {},
   "source": [
    "Agora, mostre como esta função funciona!"
   ]
  },
  {
   "cell_type": "code",
   "execution_count": 21,
   "metadata": {
    "collapsed": false
   },
   "outputs": [
    {
     "name": "stdout",
     "output_type": "stream",
     "text": [
      "5 2\n",
      "3\n",
      "5 2\n",
      "[1, 2, 3] [2]\n",
      "[1, 3] [2]\n"
     ]
    }
   ],
   "source": [
    "a = 5\n",
    "b = 2\n",
    "print(a,b)\n",
    "sub(a,b)\n",
    "print(a,b)\n",
    "\n",
    "x = [1,2,3]\n",
    "y = [2]\n",
    "print(x,y)\n",
    "sub_list(x,y)\n",
    "print(x,y)"
   ]
  },
  {
   "cell_type": "markdown",
   "metadata": {},
   "source": [
    "## Pra quê funções?\n",
    "\n",
    "A grande utilidade das funções é organizar o código.\n",
    "Além disso, se você escolher um bom **nome** para as suas funções, o seu programa também será mais fácil de entender.\n",
    "(É claro que usar nomes muito grandes tem seus inconvenientes, também.)\n",
    "\n",
    "Outra característica importante das funções é que você pode ter uma \"torre de funções\", com funções mais complicadas / especializadas utilizando funções mais simples / genéricas. Por exemplo, podemos re-escrever a função da hipotenusa assim:"
   ]
  },
  {
   "cell_type": "code",
   "execution_count": 22,
   "metadata": {
    "collapsed": false
   },
   "outputs": [],
   "source": [
    "def hyp(a,b):\n",
    "    return sqrt(sq(a) + sq(b))"
   ]
  },
  {
   "cell_type": "markdown",
   "metadata": {},
   "source": [
    "Esta idéia de \"torre\" é muito similar ao que ocorre em matemática.\n",
    "Por exemplo, vejamos algumas definições relativas a vetores:\n",
    "\n",
    "- Um **vetor** $v$ é um elemento de $R^n$.\n",
    "- A **norma** de um vetor é dada pela raiz quadrada da soma dos quadrados de suas coordenadas.\n",
    "- A **diferença** entre dois vetores é o vetor cujas coordenadas são as diferenças entre as suas coordenadas.\n",
    "- A **distância** entre dois vetores é dada pela norma da diferença de ambos."
   ]
  },
  {
   "cell_type": "code",
   "execution_count": 32,
   "metadata": {
    "collapsed": false
   },
   "outputs": [],
   "source": [
    "def norma2(v):\n",
    "    return sum([sq(x) for x in v])\n",
    "\n",
    "from math import sqrt\n",
    "def norma(v):\n",
    "    return sqrt(norma2(v))"
   ]
  },
  {
   "cell_type": "code",
   "execution_count": 33,
   "metadata": {
    "collapsed": false
   },
   "outputs": [],
   "source": [
    "def diff(v1, v2):\n",
    "    assert(len(v1) == len(v2))\n",
    "    return [x1 - x2 for (x1,x2) in zip(v1, v2)]"
   ]
  },
  {
   "cell_type": "code",
   "execution_count": 34,
   "metadata": {
    "collapsed": false
   },
   "outputs": [],
   "source": [
    "def dist(v1, v2):\n",
    "    return norma(diff(v1, v2))"
   ]
  },
  {
   "cell_type": "markdown",
   "metadata": {},
   "source": [
    "Ao longo do curso, vamos construir várias funções que implementam os diversos algoritmos que estudamos.\n",
    "Assim, teremos sempre à disposição um conjunto de operações matemáticas tanto _abstratas_ (que utilizaremos para raciocinar e **demonstrar**) quando _concretas_ (que utilizaremos para calcular e **experimentar**)"
   ]
  },
  {
   "cell_type": "code",
   "execution_count": 39,
   "metadata": {
    "collapsed": false
   },
   "outputs": [
    {
     "name": "stdout",
     "output_type": "stream",
     "text": [
      "2097150\n"
     ]
    }
   ],
   "source": [
    "def norma1(u):\n",
    "    return sum([abs(x) for x in u])\n",
    "\n",
    "def dist1(u,v):\n",
    "    return norma1(diff(u,v))\n",
    "\n",
    "a = [1]*21\n",
    "b = [(-2)**j for j in range(21)]\n",
    "\n",
    "print(dist1(a, b))\n"
   ]
  },
  {
   "cell_type": "markdown",
   "metadata": {},
   "source": [
    "### Exercício: ângulos\n",
    "\n",
    "O **ângulo** $\\theta$ entre dois vetores é dado pela fórmula\n",
    "$$\\langle u, v\\rangle = \\lvert u\\rvert \\cdot \\lvert v\\rvert \\cdot \\cos(\\theta). $$\n",
    "\n",
    "Implemente uma função que calcule o **produto interno** ($\\langle , \\rangle$) de dois vetores,\n",
    "e em seguida uma que calcule o ângulo entre os vetores."
   ]
  },
  {
   "cell_type": "code",
   "execution_count": 28,
   "metadata": {
    "collapsed": false
   },
   "outputs": [
    {
     "name": "stdout",
     "output_type": "stream",
     "text": [
      "0 0 0\n"
     ]
    }
   ],
   "source": [
    "def dot(u,v):\n",
    "    return sum([u[x]*v[x] for x in range(len(u))])\n",
    "\n",
    "def zip_dot(u,v):\n",
    "    return sum([x*y for x,y in zip(u,v)])\n",
    "\n",
    "lambda_dot = lambda u,v: sum(map(lambda x: u[x]*v[x], range(len(u))))\n",
    "\n",
    "u = [0, 1, 0]\n",
    "v = [1, 0, 0]\n",
    "print (dot(u,v), zip_dot(u,v), lambda_dot(u,v))"
   ]
  },
  {
   "cell_type": "code",
   "execution_count": 29,
   "metadata": {
    "collapsed": false
   },
   "outputs": [
    {
     "name": "stdout",
     "output_type": "stream",
     "text": [
      "1.5707963267948966\n"
     ]
    }
   ],
   "source": [
    "from math import acos\n",
    "def ang(u,v):\n",
    "    return acos(zip_dot(u,v)/(norma(u)*norma(v)))\n",
    "\n",
    "print(ang(u,v))"
   ]
  },
  {
   "cell_type": "markdown",
   "metadata": {},
   "source": [
    "Confira que a função está funcionando:"
   ]
  },
  {
   "cell_type": "code",
   "execution_count": 30,
   "metadata": {
    "collapsed": false
   },
   "outputs": [
    {
     "data": {
      "text/plain": [
       "(1.5707963267948966, 0.7853981633974484, 1.0471975511965976)"
      ]
     },
     "execution_count": 30,
     "metadata": {},
     "output_type": "execute_result"
    }
   ],
   "source": [
    "from math import pi\n",
    "ang([1,0], [0,1]), ang([1,1], [1,0]), ang([1,0], [1,sqrt(3)])"
   ]
  },
  {
   "cell_type": "markdown",
   "metadata": {},
   "source": [
    "Muitas vezes, é mais fácil de ler ângulos em graus ou múltiplos de $\\pi$, do que em radianos.\n",
    "Escreva uma função que transforma de radianos em graus."
   ]
  },
  {
   "cell_type": "code",
   "execution_count": 9,
   "metadata": {
    "collapsed": false
   },
   "outputs": [
    {
     "name": "stdout",
     "output_type": "stream",
     "text": [
      "179.90874767107852\n"
     ]
    }
   ],
   "source": [
    "from math import pi\n",
    "\n",
    "def rad_to_deg(alfa):\n",
    "    return (alfa*180.0)/pi"
   ]
  },
  {
   "cell_type": "markdown",
   "metadata": {},
   "source": [
    "Escreva uma função que imprime um ângulo dando suas três representações: em radianos, em graus, e em múltiplos de $\\pi$.\n",
    "Por exemplo:\n",
    "\n",
    "``` 3.14159 rad = 180º = 1.000 pi```"
   ]
  },
  {
   "cell_type": "code",
   "execution_count": 14,
   "metadata": {
    "collapsed": true
   },
   "outputs": [],
   "source": [
    "def pretty_angle(alfa):\n",
    "    pass"
   ]
  },
  {
   "cell_type": "code",
   "execution_count": 15,
   "metadata": {
    "collapsed": false
   },
   "outputs": [
    {
     "name": "stdout",
     "output_type": "stream",
     "text": [
      "1.57080 rad = 90º = 0.500 pi\n",
      "0.78540 rad = 45º = 0.250 pi\n",
      "1.04720 rad = 60º = 0.333 pi\n"
     ]
    }
   ],
   "source": [
    "pretty_angle(1.5707963267948966)\n",
    "pretty_angle(0.7853981633974484)\n",
    "pretty_angle(1.0471975511965976)"
   ]
  },
  {
   "cell_type": "markdown",
   "metadata": {},
   "source": [
    "Agora, podemos calcular o ângulo entre $(1,1,1,1)$ e $(1,2,3,4)$."
   ]
  },
  {
   "cell_type": "code",
   "execution_count": 16,
   "metadata": {
    "collapsed": false
   },
   "outputs": [
    {
     "name": "stdout",
     "output_type": "stream",
     "text": [
      "0.42053 rad = 24º = 0.134 pi\n"
     ]
    }
   ],
   "source": [
    "pretty_angle(ang([1,1,1,1], [1,2,3,4]))"
   ]
  },
  {
   "cell_type": "markdown",
   "metadata": {},
   "source": [
    "# Funções recursivas\n",
    "\n",
    "Já vimos a idéia que funções podem chamar outras funções em uma \"torre\".\n",
    "Uma das possibilidades que isto nos dá é que funções chamem a si mesmas, sendo _recursivas_.\n",
    "Isso é muito importante porque vários problemas possuem uma solução naturalmente recursiva.\n",
    "Em geral, isto se deve a (pelo menos) uma dentre as seguintes razões:\n",
    "\n",
    "- A definição do problema é recursiva (fatorial, Fibonacci)\n",
    "- Os dados manipulados pela função são recursivos (listas, árvores, números inteiros).\n",
    "- O problema pode ser separado em subproblemas similares (Hanói)\n",
    "- O problema pode ser formulado em uma _seqüência de aproximações_ da solução real."
   ]
  },
  {
   "cell_type": "markdown",
   "metadata": {},
   "source": [
    "## Recursão, indução e demonstração\n",
    "\n",
    "Além das razões apontadas acima, que são de caráter \"de programação\",\n",
    "a vantagem de escrever um programa como uma função recursiva\n",
    "é que isto nos dá um método para demonstrar (e até conjecturar!) fatos sobre ele:\n",
    "\n",
    "- Mostramos que uma dada propriedade é verdadeira quando a função retorna **sem** chamar a si mesma, (**Base**)\n",
    "- e depois provamos que esta propriedade continua verdadeira quando a função retorna **depois** de chamar a si mesma. (**Passo de indução**)"
   ]
  },
  {
   "cell_type": "markdown",
   "metadata": {},
   "source": [
    "### Exercício\n",
    "\n",
    "O fatorial de um número inteiro $n$ é dado por:\n",
    "$$ n! = \\cases {1 & se $n = 0$\\\\ n \\cdot (n-1)! & se $n > 0$} $$\n",
    "\n",
    "Implemente a função `fatorial` usando um algoritmo recursivo."
   ]
  },
  {
   "cell_type": "code",
   "execution_count": 14,
   "metadata": {
    "collapsed": true
   },
   "outputs": [],
   "source": [
    "def fatorial(n):\n",
    "    return n*fatorial(n-1) if n!=0 else 1"
   ]
  },
  {
   "cell_type": "code",
   "execution_count": 15,
   "metadata": {
    "collapsed": false
   },
   "outputs": [
    {
     "data": {
      "text/plain": [
       "120"
      ]
     },
     "execution_count": 15,
     "metadata": {},
     "output_type": "execute_result"
    }
   ],
   "source": [
    "fatorial(5)"
   ]
  },
  {
   "cell_type": "code",
   "execution_count": 16,
   "metadata": {
    "collapsed": false
   },
   "outputs": [
    {
     "data": {
      "text/plain": [
       "93326215443944152681699238856266700490715968264381621468592963895217599993229915608941463976156518286253697920827223758251185210916864000000000000000000000000"
      ]
     },
     "execution_count": 16,
     "metadata": {},
     "output_type": "execute_result"
    }
   ],
   "source": [
    "fatorial(100)"
   ]
  },
  {
   "cell_type": "markdown",
   "metadata": {},
   "source": [
    "### Exercício\n",
    "\n",
    "Funções com mais de um argumento também podem ser usadas em recorrências,\n",
    "mas estabelecer qual será esta recorrência pode ser mais difícil.\n",
    "\n",
    "Implemente uma função que calcule números binomiais usando recorrência (e não os fatoriais)."
   ]
  },
  {
   "cell_type": "code",
   "execution_count": 17,
   "metadata": {
    "collapsed": true
   },
   "outputs": [],
   "source": [
    "def binom(n,k):\n",
    "    return (n/k)*binom(n-1, k-1) if k>0 else 1"
   ]
  },
  {
   "cell_type": "code",
   "execution_count": 18,
   "metadata": {
    "collapsed": false
   },
   "outputs": [
    {
     "data": {
      "text/plain": [
       "120.0"
      ]
     },
     "execution_count": 18,
     "metadata": {},
     "output_type": "execute_result"
    }
   ],
   "source": [
    "binom(10,3)"
   ]
  },
  {
   "cell_type": "code",
   "execution_count": null,
   "metadata": {
    "collapsed": true
   },
   "outputs": [],
   "source": []
  }
 ],
 "metadata": {
  "kernelspec": {
   "display_name": "Python 3",
   "language": "python",
   "name": "python3"
  },
  "language_info": {
   "codemirror_mode": {
    "name": "ipython",
    "version": 3
   },
   "file_extension": ".py",
   "mimetype": "text/x-python",
   "name": "python",
   "nbconvert_exporter": "python",
   "pygments_lexer": "ipython3",
   "version": "3.5.2"
  }
 },
 "nbformat": 4,
 "nbformat_minor": 0
}
